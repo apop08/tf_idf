{
 "cells": [
  {
   "cell_type": "code",
   "execution_count": 12,
   "metadata": {},
   "outputs": [],
   "source": [
    "import math"
   ]
  },
  {
   "cell_type": "code",
   "execution_count": 1,
   "metadata": {},
   "outputs": [],
   "source": [
    "documents =  [\"The game of life is a game of everlasting learning\",\n",
    "             \"The unexamined life is not worth living\",\n",
    "             \"Never stop learning\"]\n"
   ]
  },
  {
   "cell_type": "code",
   "execution_count": 2,
   "metadata": {},
   "outputs": [
    {
     "data": {
      "text/plain": [
       "['The game of life is a game of everlasting learning',\n",
       " 'The unexamined life is not worth living',\n",
       " 'Never stop learning']"
      ]
     },
     "execution_count": 2,
     "metadata": {},
     "output_type": "execute_result"
    }
   ],
   "source": [
    "documents"
   ]
  },
  {
   "cell_type": "markdown",
   "metadata": {},
   "source": [
    "# Calculate tf"
   ]
  },
  {
   "cell_type": "code",
   "execution_count": 3,
   "metadata": {},
   "outputs": [],
   "source": [
    "def wordListToFreqDict(wordlist):\n",
    "    wordfreq = [wordlist.count(p) for p in wordlist]\n",
    "    return dict(zip(wordlist, wordfreq))\n",
    "def wordListToFreqDictNorm(wordlist):\n",
    "    wordfreq = [wordlist.count(p) / len(wordlist) for p in wordlist]\n",
    "    return dict(zip(wordlist, wordfreq))\n",
    "freqDicts = []\n",
    "freqDictsNorm = []\n",
    "for doc in documents:\n",
    "    words = doc.split()\n",
    "    freqDicts.append(wordListToFreqDict(words))\n",
    "    freqDictsNorm.append(wordListToFreqDictNorm(words))"
   ]
  },
  {
   "cell_type": "code",
   "execution_count": 4,
   "metadata": {},
   "outputs": [
    {
     "data": {
      "text/plain": [
       "[{'The': 1,\n",
       "  'game': 2,\n",
       "  'of': 2,\n",
       "  'life': 1,\n",
       "  'is': 1,\n",
       "  'a': 1,\n",
       "  'everlasting': 1,\n",
       "  'learning': 1},\n",
       " {'The': 1,\n",
       "  'unexamined': 1,\n",
       "  'life': 1,\n",
       "  'is': 1,\n",
       "  'not': 1,\n",
       "  'worth': 1,\n",
       "  'living': 1},\n",
       " {'Never': 1, 'stop': 1, 'learning': 1}]"
      ]
     },
     "execution_count": 4,
     "metadata": {},
     "output_type": "execute_result"
    }
   ],
   "source": [
    "freqDicts"
   ]
  },
  {
   "cell_type": "code",
   "execution_count": 5,
   "metadata": {},
   "outputs": [
    {
     "data": {
      "text/plain": [
       "[{'The': 0.1,\n",
       "  'game': 0.2,\n",
       "  'of': 0.2,\n",
       "  'life': 0.1,\n",
       "  'is': 0.1,\n",
       "  'a': 0.1,\n",
       "  'everlasting': 0.1,\n",
       "  'learning': 0.1},\n",
       " {'The': 0.14285714285714285,\n",
       "  'unexamined': 0.14285714285714285,\n",
       "  'life': 0.14285714285714285,\n",
       "  'is': 0.14285714285714285,\n",
       "  'not': 0.14285714285714285,\n",
       "  'worth': 0.14285714285714285,\n",
       "  'living': 0.14285714285714285},\n",
       " {'Never': 0.3333333333333333,\n",
       "  'stop': 0.3333333333333333,\n",
       "  'learning': 0.3333333333333333}]"
      ]
     },
     "execution_count": 5,
     "metadata": {},
     "output_type": "execute_result"
    }
   ],
   "source": [
    "freqDictsNorm"
   ]
  },
  {
   "cell_type": "markdown",
   "metadata": {},
   "source": [
    "# calculate idf"
   ]
  },
  {
   "cell_type": "code",
   "execution_count": 13,
   "metadata": {},
   "outputs": [],
   "source": [
    "def inverseDocumentFrequency(word, docs):\n",
    "    numDocsWTerm = 0\n",
    "    for doc in docs:\n",
    "        if word.lower() in doc.lower().split():\n",
    "            numDocsWTerm += 1\n",
    " \n",
    "    if numDocsWTerm > 0:\n",
    "        return 1.0 + math.log(float(len(docs)) / numDocsWTerm)\n",
    "    else:\n",
    "        return 1.0"
   ]
  },
  {
   "cell_type": "code",
   "execution_count": 14,
   "metadata": {},
   "outputs": [],
   "source": [
    "seperator = ' '\n",
    "allWord = seperator.join(documents)\n",
    "allWord = allWord.split()"
   ]
  },
  {
   "cell_type": "code",
   "execution_count": 15,
   "metadata": {},
   "outputs": [
    {
     "data": {
      "text/plain": [
       "{'Never',\n",
       " 'The',\n",
       " 'a',\n",
       " 'everlasting',\n",
       " 'game',\n",
       " 'is',\n",
       " 'learning',\n",
       " 'life',\n",
       " 'living',\n",
       " 'not',\n",
       " 'of',\n",
       " 'stop',\n",
       " 'unexamined',\n",
       " 'worth'}"
      ]
     },
     "execution_count": 15,
     "metadata": {},
     "output_type": "execute_result"
    }
   ],
   "source": [
    "allWordSet = set(allWord)\n",
    "allWordSet"
   ]
  },
  {
   "cell_type": "code",
   "execution_count": 16,
   "metadata": {},
   "outputs": [],
   "source": [
    "def wordListToIDFDict(wordlist, docs):\n",
    "    idf = [inverseDocumentFrequency(word, docs) for word in wordlist]\n",
    "    return dict(zip(wordlist, idf))\n",
    "idfDict = wordListToIDFDict(list(allWordSet), documents)"
   ]
  },
  {
   "cell_type": "code",
   "execution_count": 17,
   "metadata": {},
   "outputs": [
    {
     "data": {
      "text/plain": [
       "{'of': 2.09861228866811,\n",
       " 'living': 2.09861228866811,\n",
       " 'life': 1.4054651081081644,\n",
       " 'Never': 2.09861228866811,\n",
       " 'The': 1.4054651081081644,\n",
       " 'is': 1.4054651081081644,\n",
       " 'a': 2.09861228866811,\n",
       " 'everlasting': 2.09861228866811,\n",
       " 'not': 2.09861228866811,\n",
       " 'learning': 1.4054651081081644,\n",
       " 'unexamined': 2.09861228866811,\n",
       " 'game': 2.09861228866811,\n",
       " 'stop': 2.09861228866811,\n",
       " 'worth': 2.09861228866811}"
      ]
     },
     "execution_count": 17,
     "metadata": {},
     "output_type": "execute_result"
    }
   ],
   "source": [
    "idfDict"
   ]
  },
  {
   "cell_type": "code",
   "execution_count": null,
   "metadata": {},
   "outputs": [],
   "source": [
    "for i in freqDictNorm"
   ]
  }
 ],
 "metadata": {
  "kernelspec": {
   "display_name": "Python 3",
   "language": "python",
   "name": "python3"
  },
  "language_info": {
   "codemirror_mode": {
    "name": "ipython",
    "version": 3
   },
   "file_extension": ".py",
   "mimetype": "text/x-python",
   "name": "python",
   "nbconvert_exporter": "python",
   "pygments_lexer": "ipython3",
   "version": "3.7.4"
  }
 },
 "nbformat": 4,
 "nbformat_minor": 2
}
